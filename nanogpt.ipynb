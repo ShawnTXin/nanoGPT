{
 "cells": [
  {
   "cell_type": "code",
   "execution_count": 1,
   "metadata": {},
   "outputs": [
    {
     "name": "stdout",
     "output_type": "stream",
     "text": [
      "LICENSE                  \u001b[34mdata\u001b[m\u001b[m                     \u001b[34mout-shakespeare\u001b[m\u001b[m\n",
      "README.md                model.py                 \u001b[34mout-shakespeare-char\u001b[m\u001b[m\n",
      "\u001b[34m__pycache__\u001b[m\u001b[m              nanogpt.ipynb            requirements.txt\n",
      "\u001b[34massets\u001b[m\u001b[m                   \u001b[34mnanogptvenv\u001b[m\u001b[m              sample.py\n",
      "bench.py                 \u001b[34mout\u001b[m\u001b[m                      scaling_laws.ipynb\n",
      "\u001b[34mconfig\u001b[m\u001b[m                   \u001b[34mout-donaldtrump\u001b[m\u001b[m          train.py\n",
      "configurator.py          \u001b[34mout-openweb\u001b[m\u001b[m              transformer_sizing.ipynb\n"
     ]
    }
   ],
   "source": [
    "! ls\n"
   ]
  },
  {
   "cell_type": "code",
   "execution_count": null,
   "metadata": {},
   "outputs": [],
   "source": []
  }
 ],
 "metadata": {
  "kernelspec": {
   "display_name": "nanogptvenv",
   "language": "python",
   "name": "nanogptvenv"
  },
  "language_info": {
   "codemirror_mode": {
    "name": "ipython",
    "version": 3
   },
   "file_extension": ".py",
   "mimetype": "text/x-python",
   "name": "python",
   "nbconvert_exporter": "python",
   "pygments_lexer": "ipython3",
   "version": "3.9.16"
  },
  "orig_nbformat": 4
 },
 "nbformat": 4,
 "nbformat_minor": 2
}
